{
  "nbformat": 4,
  "nbformat_minor": 0,
  "metadata": {
    "colab": {
      "name": "GAN - MNIST PyTorch.ipynb",
      "provenance": [],
      "collapsed_sections": [],
      "toc_visible": true,
      "authorship_tag": "ABX9TyOqsapDRc08GSmViRYY4KPJ",
      "include_colab_link": true
    },
    "kernelspec": {
      "display_name": "Python 3",
      "name": "python3"
    },
    "language_info": {
      "name": "python"
    },
    "accelerator": "GPU",
    "widgets": {
      "application/vnd.jupyter.widget-state+json": {
        "4cdd6bde5c334a1db2f7d8fcc06048f6": {
          "model_module": "@jupyter-widgets/controls",
          "model_name": "HBoxModel",
          "state": {
            "_view_name": "HBoxView",
            "_dom_classes": [],
            "_model_name": "HBoxModel",
            "_view_module": "@jupyter-widgets/controls",
            "_model_module_version": "1.5.0",
            "_view_count": null,
            "_view_module_version": "1.5.0",
            "box_style": "",
            "layout": "IPY_MODEL_c65d829d910f4888b699b507c6413e57",
            "_model_module": "@jupyter-widgets/controls",
            "children": [
              "IPY_MODEL_71e907d25b724abe8a216a0d3bb0e5a9",
              "IPY_MODEL_3be52b6cc74441aca58e9bfe140c6507"
            ]
          }
        },
        "c65d829d910f4888b699b507c6413e57": {
          "model_module": "@jupyter-widgets/base",
          "model_name": "LayoutModel",
          "state": {
            "_view_name": "LayoutView",
            "grid_template_rows": null,
            "right": null,
            "justify_content": null,
            "_view_module": "@jupyter-widgets/base",
            "overflow": null,
            "_model_module_version": "1.2.0",
            "_view_count": null,
            "flex_flow": null,
            "width": null,
            "min_width": null,
            "border": null,
            "align_items": null,
            "bottom": null,
            "_model_module": "@jupyter-widgets/base",
            "top": null,
            "grid_column": null,
            "overflow_y": null,
            "overflow_x": null,
            "grid_auto_flow": null,
            "grid_area": null,
            "grid_template_columns": null,
            "flex": null,
            "_model_name": "LayoutModel",
            "justify_items": null,
            "grid_row": null,
            "max_height": null,
            "align_content": null,
            "visibility": null,
            "align_self": null,
            "height": null,
            "min_height": null,
            "padding": null,
            "grid_auto_rows": null,
            "grid_gap": null,
            "max_width": null,
            "order": null,
            "_view_module_version": "1.2.0",
            "grid_template_areas": null,
            "object_position": null,
            "object_fit": null,
            "grid_auto_columns": null,
            "margin": null,
            "display": null,
            "left": null
          }
        },
        "71e907d25b724abe8a216a0d3bb0e5a9": {
          "model_module": "@jupyter-widgets/controls",
          "model_name": "FloatProgressModel",
          "state": {
            "_view_name": "ProgressView",
            "style": "IPY_MODEL_01f1993e4daa4d388f34c3d500f777a8",
            "_dom_classes": [],
            "description": "",
            "_model_name": "FloatProgressModel",
            "bar_style": "success",
            "max": 9912422,
            "_view_module": "@jupyter-widgets/controls",
            "_model_module_version": "1.5.0",
            "value": 9912422,
            "_view_count": null,
            "_view_module_version": "1.5.0",
            "orientation": "horizontal",
            "min": 0,
            "description_tooltip": null,
            "_model_module": "@jupyter-widgets/controls",
            "layout": "IPY_MODEL_070e44b5b55f4802a312cd78e1ddc39f"
          }
        },
        "3be52b6cc74441aca58e9bfe140c6507": {
          "model_module": "@jupyter-widgets/controls",
          "model_name": "HTMLModel",
          "state": {
            "_view_name": "HTMLView",
            "style": "IPY_MODEL_68fa84609c4e4a29931fdf7b6d88e5f9",
            "_dom_classes": [],
            "description": "",
            "_model_name": "HTMLModel",
            "placeholder": "​",
            "_view_module": "@jupyter-widgets/controls",
            "_model_module_version": "1.5.0",
            "value": " 9913344/? [00:10&lt;00:00, 910505.98it/s]",
            "_view_count": null,
            "_view_module_version": "1.5.0",
            "description_tooltip": null,
            "_model_module": "@jupyter-widgets/controls",
            "layout": "IPY_MODEL_05f4a5f529f94b5689311d91b950c482"
          }
        },
        "01f1993e4daa4d388f34c3d500f777a8": {
          "model_module": "@jupyter-widgets/controls",
          "model_name": "ProgressStyleModel",
          "state": {
            "_view_name": "StyleView",
            "_model_name": "ProgressStyleModel",
            "description_width": "initial",
            "_view_module": "@jupyter-widgets/base",
            "_model_module_version": "1.5.0",
            "_view_count": null,
            "_view_module_version": "1.2.0",
            "bar_color": null,
            "_model_module": "@jupyter-widgets/controls"
          }
        },
        "070e44b5b55f4802a312cd78e1ddc39f": {
          "model_module": "@jupyter-widgets/base",
          "model_name": "LayoutModel",
          "state": {
            "_view_name": "LayoutView",
            "grid_template_rows": null,
            "right": null,
            "justify_content": null,
            "_view_module": "@jupyter-widgets/base",
            "overflow": null,
            "_model_module_version": "1.2.0",
            "_view_count": null,
            "flex_flow": null,
            "width": null,
            "min_width": null,
            "border": null,
            "align_items": null,
            "bottom": null,
            "_model_module": "@jupyter-widgets/base",
            "top": null,
            "grid_column": null,
            "overflow_y": null,
            "overflow_x": null,
            "grid_auto_flow": null,
            "grid_area": null,
            "grid_template_columns": null,
            "flex": null,
            "_model_name": "LayoutModel",
            "justify_items": null,
            "grid_row": null,
            "max_height": null,
            "align_content": null,
            "visibility": null,
            "align_self": null,
            "height": null,
            "min_height": null,
            "padding": null,
            "grid_auto_rows": null,
            "grid_gap": null,
            "max_width": null,
            "order": null,
            "_view_module_version": "1.2.0",
            "grid_template_areas": null,
            "object_position": null,
            "object_fit": null,
            "grid_auto_columns": null,
            "margin": null,
            "display": null,
            "left": null
          }
        },
        "68fa84609c4e4a29931fdf7b6d88e5f9": {
          "model_module": "@jupyter-widgets/controls",
          "model_name": "DescriptionStyleModel",
          "state": {
            "_view_name": "StyleView",
            "_model_name": "DescriptionStyleModel",
            "description_width": "",
            "_view_module": "@jupyter-widgets/base",
            "_model_module_version": "1.5.0",
            "_view_count": null,
            "_view_module_version": "1.2.0",
            "_model_module": "@jupyter-widgets/controls"
          }
        },
        "05f4a5f529f94b5689311d91b950c482": {
          "model_module": "@jupyter-widgets/base",
          "model_name": "LayoutModel",
          "state": {
            "_view_name": "LayoutView",
            "grid_template_rows": null,
            "right": null,
            "justify_content": null,
            "_view_module": "@jupyter-widgets/base",
            "overflow": null,
            "_model_module_version": "1.2.0",
            "_view_count": null,
            "flex_flow": null,
            "width": null,
            "min_width": null,
            "border": null,
            "align_items": null,
            "bottom": null,
            "_model_module": "@jupyter-widgets/base",
            "top": null,
            "grid_column": null,
            "overflow_y": null,
            "overflow_x": null,
            "grid_auto_flow": null,
            "grid_area": null,
            "grid_template_columns": null,
            "flex": null,
            "_model_name": "LayoutModel",
            "justify_items": null,
            "grid_row": null,
            "max_height": null,
            "align_content": null,
            "visibility": null,
            "align_self": null,
            "height": null,
            "min_height": null,
            "padding": null,
            "grid_auto_rows": null,
            "grid_gap": null,
            "max_width": null,
            "order": null,
            "_view_module_version": "1.2.0",
            "grid_template_areas": null,
            "object_position": null,
            "object_fit": null,
            "grid_auto_columns": null,
            "margin": null,
            "display": null,
            "left": null
          }
        },
        "0d5df3ed8a864bef87d221e89a1f96af": {
          "model_module": "@jupyter-widgets/controls",
          "model_name": "HBoxModel",
          "state": {
            "_view_name": "HBoxView",
            "_dom_classes": [],
            "_model_name": "HBoxModel",
            "_view_module": "@jupyter-widgets/controls",
            "_model_module_version": "1.5.0",
            "_view_count": null,
            "_view_module_version": "1.5.0",
            "box_style": "",
            "layout": "IPY_MODEL_3ffa29c3e6034e8b907de14092ec349c",
            "_model_module": "@jupyter-widgets/controls",
            "children": [
              "IPY_MODEL_07b6bc0ee1d844d7955180bae3b83d2c",
              "IPY_MODEL_3d6c6e09c13d4683ab134ab78e40d860"
            ]
          }
        },
        "3ffa29c3e6034e8b907de14092ec349c": {
          "model_module": "@jupyter-widgets/base",
          "model_name": "LayoutModel",
          "state": {
            "_view_name": "LayoutView",
            "grid_template_rows": null,
            "right": null,
            "justify_content": null,
            "_view_module": "@jupyter-widgets/base",
            "overflow": null,
            "_model_module_version": "1.2.0",
            "_view_count": null,
            "flex_flow": null,
            "width": null,
            "min_width": null,
            "border": null,
            "align_items": null,
            "bottom": null,
            "_model_module": "@jupyter-widgets/base",
            "top": null,
            "grid_column": null,
            "overflow_y": null,
            "overflow_x": null,
            "grid_auto_flow": null,
            "grid_area": null,
            "grid_template_columns": null,
            "flex": null,
            "_model_name": "LayoutModel",
            "justify_items": null,
            "grid_row": null,
            "max_height": null,
            "align_content": null,
            "visibility": null,
            "align_self": null,
            "height": null,
            "min_height": null,
            "padding": null,
            "grid_auto_rows": null,
            "grid_gap": null,
            "max_width": null,
            "order": null,
            "_view_module_version": "1.2.0",
            "grid_template_areas": null,
            "object_position": null,
            "object_fit": null,
            "grid_auto_columns": null,
            "margin": null,
            "display": null,
            "left": null
          }
        },
        "07b6bc0ee1d844d7955180bae3b83d2c": {
          "model_module": "@jupyter-widgets/controls",
          "model_name": "FloatProgressModel",
          "state": {
            "_view_name": "ProgressView",
            "style": "IPY_MODEL_6d257be420f442369103cc0a889ef27f",
            "_dom_classes": [],
            "description": "",
            "_model_name": "FloatProgressModel",
            "bar_style": "success",
            "max": 28881,
            "_view_module": "@jupyter-widgets/controls",
            "_model_module_version": "1.5.0",
            "value": 28881,
            "_view_count": null,
            "_view_module_version": "1.5.0",
            "orientation": "horizontal",
            "min": 0,
            "description_tooltip": null,
            "_model_module": "@jupyter-widgets/controls",
            "layout": "IPY_MODEL_72cce9914a2c4479b73fd679e0adf975"
          }
        },
        "3d6c6e09c13d4683ab134ab78e40d860": {
          "model_module": "@jupyter-widgets/controls",
          "model_name": "HTMLModel",
          "state": {
            "_view_name": "HTMLView",
            "style": "IPY_MODEL_b087a8cf770c4843b3630a1f192c144b",
            "_dom_classes": [],
            "description": "",
            "_model_name": "HTMLModel",
            "placeholder": "​",
            "_view_module": "@jupyter-widgets/controls",
            "_model_module_version": "1.5.0",
            "value": " 29696/? [00:08&lt;00:00, 3301.41it/s]",
            "_view_count": null,
            "_view_module_version": "1.5.0",
            "description_tooltip": null,
            "_model_module": "@jupyter-widgets/controls",
            "layout": "IPY_MODEL_7344230b2be54206b009697f8bd5cded"
          }
        },
        "6d257be420f442369103cc0a889ef27f": {
          "model_module": "@jupyter-widgets/controls",
          "model_name": "ProgressStyleModel",
          "state": {
            "_view_name": "StyleView",
            "_model_name": "ProgressStyleModel",
            "description_width": "initial",
            "_view_module": "@jupyter-widgets/base",
            "_model_module_version": "1.5.0",
            "_view_count": null,
            "_view_module_version": "1.2.0",
            "bar_color": null,
            "_model_module": "@jupyter-widgets/controls"
          }
        },
        "72cce9914a2c4479b73fd679e0adf975": {
          "model_module": "@jupyter-widgets/base",
          "model_name": "LayoutModel",
          "state": {
            "_view_name": "LayoutView",
            "grid_template_rows": null,
            "right": null,
            "justify_content": null,
            "_view_module": "@jupyter-widgets/base",
            "overflow": null,
            "_model_module_version": "1.2.0",
            "_view_count": null,
            "flex_flow": null,
            "width": null,
            "min_width": null,
            "border": null,
            "align_items": null,
            "bottom": null,
            "_model_module": "@jupyter-widgets/base",
            "top": null,
            "grid_column": null,
            "overflow_y": null,
            "overflow_x": null,
            "grid_auto_flow": null,
            "grid_area": null,
            "grid_template_columns": null,
            "flex": null,
            "_model_name": "LayoutModel",
            "justify_items": null,
            "grid_row": null,
            "max_height": null,
            "align_content": null,
            "visibility": null,
            "align_self": null,
            "height": null,
            "min_height": null,
            "padding": null,
            "grid_auto_rows": null,
            "grid_gap": null,
            "max_width": null,
            "order": null,
            "_view_module_version": "1.2.0",
            "grid_template_areas": null,
            "object_position": null,
            "object_fit": null,
            "grid_auto_columns": null,
            "margin": null,
            "display": null,
            "left": null
          }
        },
        "b087a8cf770c4843b3630a1f192c144b": {
          "model_module": "@jupyter-widgets/controls",
          "model_name": "DescriptionStyleModel",
          "state": {
            "_view_name": "StyleView",
            "_model_name": "DescriptionStyleModel",
            "description_width": "",
            "_view_module": "@jupyter-widgets/base",
            "_model_module_version": "1.5.0",
            "_view_count": null,
            "_view_module_version": "1.2.0",
            "_model_module": "@jupyter-widgets/controls"
          }
        },
        "7344230b2be54206b009697f8bd5cded": {
          "model_module": "@jupyter-widgets/base",
          "model_name": "LayoutModel",
          "state": {
            "_view_name": "LayoutView",
            "grid_template_rows": null,
            "right": null,
            "justify_content": null,
            "_view_module": "@jupyter-widgets/base",
            "overflow": null,
            "_model_module_version": "1.2.0",
            "_view_count": null,
            "flex_flow": null,
            "width": null,
            "min_width": null,
            "border": null,
            "align_items": null,
            "bottom": null,
            "_model_module": "@jupyter-widgets/base",
            "top": null,
            "grid_column": null,
            "overflow_y": null,
            "overflow_x": null,
            "grid_auto_flow": null,
            "grid_area": null,
            "grid_template_columns": null,
            "flex": null,
            "_model_name": "LayoutModel",
            "justify_items": null,
            "grid_row": null,
            "max_height": null,
            "align_content": null,
            "visibility": null,
            "align_self": null,
            "height": null,
            "min_height": null,
            "padding": null,
            "grid_auto_rows": null,
            "grid_gap": null,
            "max_width": null,
            "order": null,
            "_view_module_version": "1.2.0",
            "grid_template_areas": null,
            "object_position": null,
            "object_fit": null,
            "grid_auto_columns": null,
            "margin": null,
            "display": null,
            "left": null
          }
        },
        "b4ef0a20c74147bc9e039fc789f4f6a5": {
          "model_module": "@jupyter-widgets/controls",
          "model_name": "HBoxModel",
          "state": {
            "_view_name": "HBoxView",
            "_dom_classes": [],
            "_model_name": "HBoxModel",
            "_view_module": "@jupyter-widgets/controls",
            "_model_module_version": "1.5.0",
            "_view_count": null,
            "_view_module_version": "1.5.0",
            "box_style": "",
            "layout": "IPY_MODEL_74f2fb8fbd7446b6a2b4dd3bb598445c",
            "_model_module": "@jupyter-widgets/controls",
            "children": [
              "IPY_MODEL_7a3120965edf458e9f9e0091df254252",
              "IPY_MODEL_e36a3ab0685e4dcca4e4f0f347a3fb8b"
            ]
          }
        },
        "74f2fb8fbd7446b6a2b4dd3bb598445c": {
          "model_module": "@jupyter-widgets/base",
          "model_name": "LayoutModel",
          "state": {
            "_view_name": "LayoutView",
            "grid_template_rows": null,
            "right": null,
            "justify_content": null,
            "_view_module": "@jupyter-widgets/base",
            "overflow": null,
            "_model_module_version": "1.2.0",
            "_view_count": null,
            "flex_flow": null,
            "width": null,
            "min_width": null,
            "border": null,
            "align_items": null,
            "bottom": null,
            "_model_module": "@jupyter-widgets/base",
            "top": null,
            "grid_column": null,
            "overflow_y": null,
            "overflow_x": null,
            "grid_auto_flow": null,
            "grid_area": null,
            "grid_template_columns": null,
            "flex": null,
            "_model_name": "LayoutModel",
            "justify_items": null,
            "grid_row": null,
            "max_height": null,
            "align_content": null,
            "visibility": null,
            "align_self": null,
            "height": null,
            "min_height": null,
            "padding": null,
            "grid_auto_rows": null,
            "grid_gap": null,
            "max_width": null,
            "order": null,
            "_view_module_version": "1.2.0",
            "grid_template_areas": null,
            "object_position": null,
            "object_fit": null,
            "grid_auto_columns": null,
            "margin": null,
            "display": null,
            "left": null
          }
        },
        "7a3120965edf458e9f9e0091df254252": {
          "model_module": "@jupyter-widgets/controls",
          "model_name": "FloatProgressModel",
          "state": {
            "_view_name": "ProgressView",
            "style": "IPY_MODEL_9e347d11ebed48bb92e8df15c9ca5070",
            "_dom_classes": [],
            "description": "",
            "_model_name": "FloatProgressModel",
            "bar_style": "success",
            "max": 1648877,
            "_view_module": "@jupyter-widgets/controls",
            "_model_module_version": "1.5.0",
            "value": 1648877,
            "_view_count": null,
            "_view_module_version": "1.5.0",
            "orientation": "horizontal",
            "min": 0,
            "description_tooltip": null,
            "_model_module": "@jupyter-widgets/controls",
            "layout": "IPY_MODEL_960fbc2ca3dc49039f117e851ea1b28b"
          }
        },
        "e36a3ab0685e4dcca4e4f0f347a3fb8b": {
          "model_module": "@jupyter-widgets/controls",
          "model_name": "HTMLModel",
          "state": {
            "_view_name": "HTMLView",
            "style": "IPY_MODEL_cc4a6cc6a4aa42fe830c24d139de13d9",
            "_dom_classes": [],
            "description": "",
            "_model_name": "HTMLModel",
            "placeholder": "​",
            "_view_module": "@jupyter-widgets/controls",
            "_model_module_version": "1.5.0",
            "value": " 1649664/? [00:01&lt;00:00, 1266307.41it/s]",
            "_view_count": null,
            "_view_module_version": "1.5.0",
            "description_tooltip": null,
            "_model_module": "@jupyter-widgets/controls",
            "layout": "IPY_MODEL_5459dbef810f4b4eac276e827c6ca2b3"
          }
        },
        "9e347d11ebed48bb92e8df15c9ca5070": {
          "model_module": "@jupyter-widgets/controls",
          "model_name": "ProgressStyleModel",
          "state": {
            "_view_name": "StyleView",
            "_model_name": "ProgressStyleModel",
            "description_width": "initial",
            "_view_module": "@jupyter-widgets/base",
            "_model_module_version": "1.5.0",
            "_view_count": null,
            "_view_module_version": "1.2.0",
            "bar_color": null,
            "_model_module": "@jupyter-widgets/controls"
          }
        },
        "960fbc2ca3dc49039f117e851ea1b28b": {
          "model_module": "@jupyter-widgets/base",
          "model_name": "LayoutModel",
          "state": {
            "_view_name": "LayoutView",
            "grid_template_rows": null,
            "right": null,
            "justify_content": null,
            "_view_module": "@jupyter-widgets/base",
            "overflow": null,
            "_model_module_version": "1.2.0",
            "_view_count": null,
            "flex_flow": null,
            "width": null,
            "min_width": null,
            "border": null,
            "align_items": null,
            "bottom": null,
            "_model_module": "@jupyter-widgets/base",
            "top": null,
            "grid_column": null,
            "overflow_y": null,
            "overflow_x": null,
            "grid_auto_flow": null,
            "grid_area": null,
            "grid_template_columns": null,
            "flex": null,
            "_model_name": "LayoutModel",
            "justify_items": null,
            "grid_row": null,
            "max_height": null,
            "align_content": null,
            "visibility": null,
            "align_self": null,
            "height": null,
            "min_height": null,
            "padding": null,
            "grid_auto_rows": null,
            "grid_gap": null,
            "max_width": null,
            "order": null,
            "_view_module_version": "1.2.0",
            "grid_template_areas": null,
            "object_position": null,
            "object_fit": null,
            "grid_auto_columns": null,
            "margin": null,
            "display": null,
            "left": null
          }
        },
        "cc4a6cc6a4aa42fe830c24d139de13d9": {
          "model_module": "@jupyter-widgets/controls",
          "model_name": "DescriptionStyleModel",
          "state": {
            "_view_name": "StyleView",
            "_model_name": "DescriptionStyleModel",
            "description_width": "",
            "_view_module": "@jupyter-widgets/base",
            "_model_module_version": "1.5.0",
            "_view_count": null,
            "_view_module_version": "1.2.0",
            "_model_module": "@jupyter-widgets/controls"
          }
        },
        "5459dbef810f4b4eac276e827c6ca2b3": {
          "model_module": "@jupyter-widgets/base",
          "model_name": "LayoutModel",
          "state": {
            "_view_name": "LayoutView",
            "grid_template_rows": null,
            "right": null,
            "justify_content": null,
            "_view_module": "@jupyter-widgets/base",
            "overflow": null,
            "_model_module_version": "1.2.0",
            "_view_count": null,
            "flex_flow": null,
            "width": null,
            "min_width": null,
            "border": null,
            "align_items": null,
            "bottom": null,
            "_model_module": "@jupyter-widgets/base",
            "top": null,
            "grid_column": null,
            "overflow_y": null,
            "overflow_x": null,
            "grid_auto_flow": null,
            "grid_area": null,
            "grid_template_columns": null,
            "flex": null,
            "_model_name": "LayoutModel",
            "justify_items": null,
            "grid_row": null,
            "max_height": null,
            "align_content": null,
            "visibility": null,
            "align_self": null,
            "height": null,
            "min_height": null,
            "padding": null,
            "grid_auto_rows": null,
            "grid_gap": null,
            "max_width": null,
            "order": null,
            "_view_module_version": "1.2.0",
            "grid_template_areas": null,
            "object_position": null,
            "object_fit": null,
            "grid_auto_columns": null,
            "margin": null,
            "display": null,
            "left": null
          }
        },
        "1c502b0bd9b348dca9f41af2410788a2": {
          "model_module": "@jupyter-widgets/controls",
          "model_name": "HBoxModel",
          "state": {
            "_view_name": "HBoxView",
            "_dom_classes": [],
            "_model_name": "HBoxModel",
            "_view_module": "@jupyter-widgets/controls",
            "_model_module_version": "1.5.0",
            "_view_count": null,
            "_view_module_version": "1.5.0",
            "box_style": "",
            "layout": "IPY_MODEL_cab19472e9aa4d689384409f61ed765e",
            "_model_module": "@jupyter-widgets/controls",
            "children": [
              "IPY_MODEL_5017df588f0349ec85f7ed7e2b526527",
              "IPY_MODEL_cfd566c980a946b2a7b91e58476422b8"
            ]
          }
        },
        "cab19472e9aa4d689384409f61ed765e": {
          "model_module": "@jupyter-widgets/base",
          "model_name": "LayoutModel",
          "state": {
            "_view_name": "LayoutView",
            "grid_template_rows": null,
            "right": null,
            "justify_content": null,
            "_view_module": "@jupyter-widgets/base",
            "overflow": null,
            "_model_module_version": "1.2.0",
            "_view_count": null,
            "flex_flow": null,
            "width": null,
            "min_width": null,
            "border": null,
            "align_items": null,
            "bottom": null,
            "_model_module": "@jupyter-widgets/base",
            "top": null,
            "grid_column": null,
            "overflow_y": null,
            "overflow_x": null,
            "grid_auto_flow": null,
            "grid_area": null,
            "grid_template_columns": null,
            "flex": null,
            "_model_name": "LayoutModel",
            "justify_items": null,
            "grid_row": null,
            "max_height": null,
            "align_content": null,
            "visibility": null,
            "align_self": null,
            "height": null,
            "min_height": null,
            "padding": null,
            "grid_auto_rows": null,
            "grid_gap": null,
            "max_width": null,
            "order": null,
            "_view_module_version": "1.2.0",
            "grid_template_areas": null,
            "object_position": null,
            "object_fit": null,
            "grid_auto_columns": null,
            "margin": null,
            "display": null,
            "left": null
          }
        },
        "5017df588f0349ec85f7ed7e2b526527": {
          "model_module": "@jupyter-widgets/controls",
          "model_name": "FloatProgressModel",
          "state": {
            "_view_name": "ProgressView",
            "style": "IPY_MODEL_182110d4cb4d40bdafaab2844578045e",
            "_dom_classes": [],
            "description": "",
            "_model_name": "FloatProgressModel",
            "bar_style": "success",
            "max": 4542,
            "_view_module": "@jupyter-widgets/controls",
            "_model_module_version": "1.5.0",
            "value": 4542,
            "_view_count": null,
            "_view_module_version": "1.5.0",
            "orientation": "horizontal",
            "min": 0,
            "description_tooltip": null,
            "_model_module": "@jupyter-widgets/controls",
            "layout": "IPY_MODEL_437649d668cd4c3d87277c18e3bac875"
          }
        },
        "cfd566c980a946b2a7b91e58476422b8": {
          "model_module": "@jupyter-widgets/controls",
          "model_name": "HTMLModel",
          "state": {
            "_view_name": "HTMLView",
            "style": "IPY_MODEL_c90d0e0d2fbb42278254861f5c6fb6b5",
            "_dom_classes": [],
            "description": "",
            "_model_name": "HTMLModel",
            "placeholder": "​",
            "_view_module": "@jupyter-widgets/controls",
            "_model_module_version": "1.5.0",
            "value": " 5120/? [00:06&lt;00:00, 746.27it/s]",
            "_view_count": null,
            "_view_module_version": "1.5.0",
            "description_tooltip": null,
            "_model_module": "@jupyter-widgets/controls",
            "layout": "IPY_MODEL_9d0a11cb32ac4f5c8a93ed31cb54ced6"
          }
        },
        "182110d4cb4d40bdafaab2844578045e": {
          "model_module": "@jupyter-widgets/controls",
          "model_name": "ProgressStyleModel",
          "state": {
            "_view_name": "StyleView",
            "_model_name": "ProgressStyleModel",
            "description_width": "initial",
            "_view_module": "@jupyter-widgets/base",
            "_model_module_version": "1.5.0",
            "_view_count": null,
            "_view_module_version": "1.2.0",
            "bar_color": null,
            "_model_module": "@jupyter-widgets/controls"
          }
        },
        "437649d668cd4c3d87277c18e3bac875": {
          "model_module": "@jupyter-widgets/base",
          "model_name": "LayoutModel",
          "state": {
            "_view_name": "LayoutView",
            "grid_template_rows": null,
            "right": null,
            "justify_content": null,
            "_view_module": "@jupyter-widgets/base",
            "overflow": null,
            "_model_module_version": "1.2.0",
            "_view_count": null,
            "flex_flow": null,
            "width": null,
            "min_width": null,
            "border": null,
            "align_items": null,
            "bottom": null,
            "_model_module": "@jupyter-widgets/base",
            "top": null,
            "grid_column": null,
            "overflow_y": null,
            "overflow_x": null,
            "grid_auto_flow": null,
            "grid_area": null,
            "grid_template_columns": null,
            "flex": null,
            "_model_name": "LayoutModel",
            "justify_items": null,
            "grid_row": null,
            "max_height": null,
            "align_content": null,
            "visibility": null,
            "align_self": null,
            "height": null,
            "min_height": null,
            "padding": null,
            "grid_auto_rows": null,
            "grid_gap": null,
            "max_width": null,
            "order": null,
            "_view_module_version": "1.2.0",
            "grid_template_areas": null,
            "object_position": null,
            "object_fit": null,
            "grid_auto_columns": null,
            "margin": null,
            "display": null,
            "left": null
          }
        },
        "c90d0e0d2fbb42278254861f5c6fb6b5": {
          "model_module": "@jupyter-widgets/controls",
          "model_name": "DescriptionStyleModel",
          "state": {
            "_view_name": "StyleView",
            "_model_name": "DescriptionStyleModel",
            "description_width": "",
            "_view_module": "@jupyter-widgets/base",
            "_model_module_version": "1.5.0",
            "_view_count": null,
            "_view_module_version": "1.2.0",
            "_model_module": "@jupyter-widgets/controls"
          }
        },
        "9d0a11cb32ac4f5c8a93ed31cb54ced6": {
          "model_module": "@jupyter-widgets/base",
          "model_name": "LayoutModel",
          "state": {
            "_view_name": "LayoutView",
            "grid_template_rows": null,
            "right": null,
            "justify_content": null,
            "_view_module": "@jupyter-widgets/base",
            "overflow": null,
            "_model_module_version": "1.2.0",
            "_view_count": null,
            "flex_flow": null,
            "width": null,
            "min_width": null,
            "border": null,
            "align_items": null,
            "bottom": null,
            "_model_module": "@jupyter-widgets/base",
            "top": null,
            "grid_column": null,
            "overflow_y": null,
            "overflow_x": null,
            "grid_auto_flow": null,
            "grid_area": null,
            "grid_template_columns": null,
            "flex": null,
            "_model_name": "LayoutModel",
            "justify_items": null,
            "grid_row": null,
            "max_height": null,
            "align_content": null,
            "visibility": null,
            "align_self": null,
            "height": null,
            "min_height": null,
            "padding": null,
            "grid_auto_rows": null,
            "grid_gap": null,
            "max_width": null,
            "order": null,
            "_view_module_version": "1.2.0",
            "grid_template_areas": null,
            "object_position": null,
            "object_fit": null,
            "grid_auto_columns": null,
            "margin": null,
            "display": null,
            "left": null
          }
        }
      }
    }
  },
  "cells": [
    {
      "cell_type": "markdown",
      "metadata": {
        "id": "view-in-github",
        "colab_type": "text"
      },
      "source": [
        "<a href=\"https://colab.research.google.com/github/mohith-vishwanath/GAN_mnist_pytorch/blob/main/GAN_MNIST_PyTorch.ipynb\" target=\"_parent\"><img src=\"https://colab.research.google.com/assets/colab-badge.svg\" alt=\"Open In Colab\"/></a>"
      ]
    },
    {
      "cell_type": "code",
      "metadata": {
        "id": "Hs5Q_G1WF21O"
      },
      "source": [
        "import torch\n",
        "import torch.nn as nn\n",
        "import torch.optim as optim\n",
        "import torch.nn.functional as F\n",
        "import torchvision \n",
        "import torchvision.datasets as datasets\n",
        "from torch.utils.data import DataLoader\n",
        "import torchvision.transforms as transforms\n",
        "from torch.utils.tensorboard import SummaryWriter\n",
        "import matplotlib.pyplot as plt\n",
        "import numpy as np\n",
        "import imageio\n",
        "import time\n",
        "\n",
        "# from google.colab import drive\n",
        "# drive.mount('/content/drive')"
      ],
      "execution_count": 1,
      "outputs": []
    },
    {
      "cell_type": "markdown",
      "metadata": {
        "id": "bExpG1H7Z-SQ"
      },
      "source": [
        "##Linear Model (GAN)"
      ]
    },
    {
      "cell_type": "code",
      "metadata": {
        "colab": {
          "base_uri": "https://localhost:8080/"
        },
        "id": "cK4GCCoX3Bjf",
        "outputId": "eba8d3a4-88dc-446d-9ade-89bb9671a94e"
      },
      "source": [
        "#HyperParameters\n",
        "\n",
        "device = \"cuda\" if torch.cuda.is_available() else \"cpu\"\n",
        "print(f'Running on {device}')\n",
        "\n",
        "\n",
        "random_seed = 69\n",
        "gen_lr = 0.0002 #learning rate for the generator\n",
        "disc_lr = 0.0002 #learning rate for the discriminator\n",
        "batch_size = 128 \n",
        "z_dim = 128 #latent hidden space. This space will be mapped to the MNIST digits\n",
        "hidden_dim = 256 #used for the number of neurons in the network\n",
        "num_of_epochs = 200 \n",
        "img_height, img_width, img_color_channel = 28,28,1\n",
        "output_dim = 1 #number of outputs of the discriminator"
      ],
      "execution_count": 2,
      "outputs": [
        {
          "output_type": "stream",
          "text": [
            "Running on cuda\n"
          ],
          "name": "stdout"
        }
      ]
    },
    {
      "cell_type": "code",
      "metadata": {
        "id": "c8qlvdPz3fAj"
      },
      "source": [
        "#Custom transforms to be done on the MNIST digits\n",
        "# 1. Convert the image to a Tensor\n",
        "# 2. Normalize the pixel values so that the new distribution has mean and std of 0.5\n",
        "\n",
        "custom_transform = transforms.Compose([\n",
        "    transforms.ToTensor(),\n",
        "    transforms.Normalize((0.5,),(0.5,))\n",
        "])"
      ],
      "execution_count": 3,
      "outputs": []
    },
    {
      "cell_type": "code",
      "metadata": {
        "colab": {
          "base_uri": "https://localhost:8080/",
          "height": 862,
          "referenced_widgets": [
            "4cdd6bde5c334a1db2f7d8fcc06048f6",
            "c65d829d910f4888b699b507c6413e57",
            "71e907d25b724abe8a216a0d3bb0e5a9",
            "3be52b6cc74441aca58e9bfe140c6507",
            "01f1993e4daa4d388f34c3d500f777a8",
            "070e44b5b55f4802a312cd78e1ddc39f",
            "68fa84609c4e4a29931fdf7b6d88e5f9",
            "05f4a5f529f94b5689311d91b950c482",
            "0d5df3ed8a864bef87d221e89a1f96af",
            "3ffa29c3e6034e8b907de14092ec349c",
            "07b6bc0ee1d844d7955180bae3b83d2c",
            "3d6c6e09c13d4683ab134ab78e40d860",
            "6d257be420f442369103cc0a889ef27f",
            "72cce9914a2c4479b73fd679e0adf975",
            "b087a8cf770c4843b3630a1f192c144b",
            "7344230b2be54206b009697f8bd5cded",
            "b4ef0a20c74147bc9e039fc789f4f6a5",
            "74f2fb8fbd7446b6a2b4dd3bb598445c",
            "7a3120965edf458e9f9e0091df254252",
            "e36a3ab0685e4dcca4e4f0f347a3fb8b",
            "9e347d11ebed48bb92e8df15c9ca5070",
            "960fbc2ca3dc49039f117e851ea1b28b",
            "cc4a6cc6a4aa42fe830c24d139de13d9",
            "5459dbef810f4b4eac276e827c6ca2b3",
            "1c502b0bd9b348dca9f41af2410788a2",
            "cab19472e9aa4d689384409f61ed765e",
            "5017df588f0349ec85f7ed7e2b526527",
            "cfd566c980a946b2a7b91e58476422b8",
            "182110d4cb4d40bdafaab2844578045e",
            "437649d668cd4c3d87277c18e3bac875",
            "c90d0e0d2fbb42278254861f5c6fb6b5",
            "9d0a11cb32ac4f5c8a93ed31cb54ced6"
          ]
        },
        "id": "X7w8v0cl3tRl",
        "outputId": "4cba5588-2674-4b54-de9b-e8d7a9d67915"
      },
      "source": [
        "#Download the dataset\n",
        "train_dataset = datasets.MNIST(\n",
        "    root = \"\",\n",
        "    train=True,\n",
        "    download = True,\n",
        "    transform = custom_transform\n",
        ")\n",
        "\n",
        "#Load the dataset into a DataLoader to be used as an iterator while training\n",
        "train_loader = DataLoader(dataset=train_dataset,\n",
        "                          batch_size=batch_size,\n",
        "                          shuffle=True\n",
        ")\n",
        "\n",
        "#Checking the dataset\n",
        "\n",
        "for image, label in train_loader:\n",
        "    print(\"\\nImage batch dimensions : \",image.shape)\n",
        "    print(\"Image label dimensions : \", label.shape)\n",
        "    break"
      ],
      "execution_count": 4,
      "outputs": [
        {
          "output_type": "stream",
          "text": [
            "Downloading http://yann.lecun.com/exdb/mnist/train-images-idx3-ubyte.gz\n",
            "Failed to download (trying next):\n",
            "HTTP Error 503: Service Unavailable\n",
            "\n",
            "Downloading https://ossci-datasets.s3.amazonaws.com/mnist/train-images-idx3-ubyte.gz\n",
            "Downloading https://ossci-datasets.s3.amazonaws.com/mnist/train-images-idx3-ubyte.gz to MNIST/raw/train-images-idx3-ubyte.gz\n"
          ],
          "name": "stdout"
        },
        {
          "output_type": "display_data",
          "data": {
            "application/vnd.jupyter.widget-view+json": {
              "model_id": "4cdd6bde5c334a1db2f7d8fcc06048f6",
              "version_minor": 0,
              "version_major": 2
            },
            "text/plain": [
              "HBox(children=(FloatProgress(value=0.0, max=9912422.0), HTML(value='')))"
            ]
          },
          "metadata": {
            "tags": []
          }
        },
        {
          "output_type": "stream",
          "text": [
            "\n",
            "Extracting MNIST/raw/train-images-idx3-ubyte.gz to MNIST/raw\n",
            "\n",
            "Downloading http://yann.lecun.com/exdb/mnist/train-labels-idx1-ubyte.gz\n",
            "Failed to download (trying next):\n",
            "HTTP Error 503: Service Unavailable\n",
            "\n",
            "Downloading https://ossci-datasets.s3.amazonaws.com/mnist/train-labels-idx1-ubyte.gz\n",
            "Downloading https://ossci-datasets.s3.amazonaws.com/mnist/train-labels-idx1-ubyte.gz to MNIST/raw/train-labels-idx1-ubyte.gz\n"
          ],
          "name": "stdout"
        },
        {
          "output_type": "display_data",
          "data": {
            "application/vnd.jupyter.widget-view+json": {
              "model_id": "0d5df3ed8a864bef87d221e89a1f96af",
              "version_minor": 0,
              "version_major": 2
            },
            "text/plain": [
              "HBox(children=(FloatProgress(value=0.0, max=28881.0), HTML(value='')))"
            ]
          },
          "metadata": {
            "tags": []
          }
        },
        {
          "output_type": "stream",
          "text": [
            "\n",
            "Extracting MNIST/raw/train-labels-idx1-ubyte.gz to MNIST/raw\n",
            "\n",
            "Downloading http://yann.lecun.com/exdb/mnist/t10k-images-idx3-ubyte.gz\n",
            "Failed to download (trying next):\n",
            "HTTP Error 503: Service Unavailable\n",
            "\n",
            "Downloading https://ossci-datasets.s3.amazonaws.com/mnist/t10k-images-idx3-ubyte.gz\n",
            "Downloading https://ossci-datasets.s3.amazonaws.com/mnist/t10k-images-idx3-ubyte.gz to MNIST/raw/t10k-images-idx3-ubyte.gz\n"
          ],
          "name": "stdout"
        },
        {
          "output_type": "display_data",
          "data": {
            "application/vnd.jupyter.widget-view+json": {
              "model_id": "b4ef0a20c74147bc9e039fc789f4f6a5",
              "version_minor": 0,
              "version_major": 2
            },
            "text/plain": [
              "HBox(children=(FloatProgress(value=0.0, max=1648877.0), HTML(value='')))"
            ]
          },
          "metadata": {
            "tags": []
          }
        },
        {
          "output_type": "stream",
          "text": [
            "\n",
            "Extracting MNIST/raw/t10k-images-idx3-ubyte.gz to MNIST/raw\n",
            "\n",
            "Downloading http://yann.lecun.com/exdb/mnist/t10k-labels-idx1-ubyte.gz\n",
            "Failed to download (trying next):\n",
            "HTTP Error 503: Service Unavailable\n",
            "\n",
            "Downloading https://ossci-datasets.s3.amazonaws.com/mnist/t10k-labels-idx1-ubyte.gz\n",
            "Downloading https://ossci-datasets.s3.amazonaws.com/mnist/t10k-labels-idx1-ubyte.gz to MNIST/raw/t10k-labels-idx1-ubyte.gz\n"
          ],
          "name": "stdout"
        },
        {
          "output_type": "display_data",
          "data": {
            "application/vnd.jupyter.widget-view+json": {
              "model_id": "1c502b0bd9b348dca9f41af2410788a2",
              "version_minor": 0,
              "version_major": 2
            },
            "text/plain": [
              "HBox(children=(FloatProgress(value=0.0, max=4542.0), HTML(value='')))"
            ]
          },
          "metadata": {
            "tags": []
          }
        },
        {
          "output_type": "stream",
          "text": [
            "\n",
            "Extracting MNIST/raw/t10k-labels-idx1-ubyte.gz to MNIST/raw\n",
            "\n"
          ],
          "name": "stdout"
        },
        {
          "output_type": "stream",
          "text": [
            "/usr/local/lib/python3.7/dist-packages/torchvision/datasets/mnist.py:498: UserWarning: The given NumPy array is not writeable, and PyTorch does not support non-writeable tensors. This means you can write to the underlying (supposedly non-writeable) NumPy array using the tensor. You may want to copy the array to protect its data or make it writeable before converting it to a tensor. This type of warning will be suppressed for the rest of this program. (Triggered internally at  /pytorch/torch/csrc/utils/tensor_numpy.cpp:180.)\n",
            "  return torch.from_numpy(parsed.astype(m[2], copy=False)).view(*s)\n"
          ],
          "name": "stderr"
        },
        {
          "output_type": "stream",
          "text": [
            "\n",
            "Image batch dimensions :  torch.Size([128, 1, 28, 28])\n",
            "Image label dimensions :  torch.Size([128])\n"
          ],
          "name": "stdout"
        }
      ]
    },
    {
      "cell_type": "code",
      "metadata": {
        "colab": {
          "base_uri": "https://localhost:8080/",
          "height": 400
        },
        "id": "9wLSOJ0f8Y-v",
        "outputId": "3eafa916-a5a5-45a1-859c-2f7f4f5ef99c"
      },
      "source": [
        "#Randomly pick a few images to be displayed below\n",
        "\n",
        "num_of_images = 40\n",
        "\n",
        "random_choice = np.random.choice(np.arange(batch_size),size=num_of_images)\n",
        "random_images = image[random_choice,:,:,:]\n",
        "\n",
        "plt.figure(figsize=(10,10))\n",
        "plt.axis(\"off\")\n",
        "plt.title(\"Training Images\")\n",
        "plt.imshow(np.transpose(torchvision.utils.make_grid(random_images,padding=5,normalize=True),(1,2,0)))\n",
        "plt.show()"
      ],
      "execution_count": 5,
      "outputs": [
        {
          "output_type": "display_data",
          "data": {
            "image/png": "[encoded data removed]",
            "text/plain": [
              "<Figure size 720x720 with 1 Axes>"
            ]
          },
          "metadata": {
            "tags": [],
            "needs_background": "light"
          }
        }
      ]
    },
    {
      "cell_type": "code",
      "metadata": {
        "id": "GP3CJRybjqX3"
      },
      "source": [
        "def get_real_labels(length):\n",
        "    #returns a 2D tensor of shape [1,length] filled with 1s\n",
        "    return torch.ones(length,device=device,dtype=torch.float32).unsqueeze(dim=1)\n",
        "\n",
        "def get_fake_labels(length):\n",
        "    #returns a 2D tensor of shape [1,length] filled with 0s\n",
        "    return torch.zeros(length,device=device,dtype=torch.float32).unsqueeze(dim=1)\n",
        "\n",
        "def get_noise_vector(sample_size,noise_dim):\n",
        "    #returns a 2D tensor of shape [sample_size,noise_dim] filled with random numbers\n",
        "    return torch.randn(sample_size,noise_dim,device=device,dtype=torch.float32)\n",
        "\n",
        "def save_generated_images(image,path):\n",
        "    torchvision.utils.save_image(image,path)"
      ],
      "execution_count": 34,
      "outputs": []
    },
    {
      "cell_type": "markdown",
      "metadata": {
        "id": "TFYe4FSBSAgV"
      },
      "source": [
        "#### Linear Model Architecture"
      ]
    },
    {
      "cell_type": "code",
      "metadata": {
        "id": "fwEPV6FQGN8L"
      },
      "source": [
        "class Discriminator(nn.Module):\n",
        "\n",
        "    '''\n",
        "    Parameters\n",
        "\n",
        "    1. img_dim    -> Refers to the dimensions of the image. The MNIST dataset consists of images of shape 28*28. When flattened, the linear vector will be of shape [784]\n",
        "    2. hidden_dim -> Refers to the number of neurons in the hidden layers. You can use numbers instead\n",
        "    3. output_dim -> The dicriminator has only one output. It can have 2 if we chose to use a different loss function (other than binary cross entropy)\n",
        "\n",
        "    '''\n",
        "\n",
        "\n",
        "    def __init__(self,img_dim,hidden_dim,output_dim):\n",
        "        super().__init__()\n",
        "        self.disc = nn.Sequential(\n",
        "            nn.Linear(img_dim,hidden_dim*4),\n",
        "            nn.LeakyReLU(0.1),\n",
        "            nn.Linear(hidden_dim*4,hidden_dim*2),\n",
        "            nn.LeakyReLU(0.2),\n",
        "            nn.Dropout(0.2),\n",
        "            nn.Linear(hidden_dim*2,hidden_dim),\n",
        "            nn.LeakyReLU(0.1),\n",
        "            nn.Dropout(0.1),\n",
        "            nn.Linear(hidden_dim,output_dim),\n",
        "            nn.Sigmoid()\n",
        "        )\n",
        "\n",
        "    def forward(self,x):\n",
        "        x = x.view(-1,784)\n",
        "        return self.disc(x)\n",
        "    \n",
        "\n",
        "class Generator(nn.Module):\n",
        "\n",
        "    '''\n",
        "    Parameters\n",
        "\n",
        "    1. z_dim      -> Refers to the latent noise space. The generator will learn to map this space to the training set distribution\n",
        "    2. img_dim    -> Refers to the dimensions of the image. The MNIST dataset consists of images of shape 28*28. When flattened, the linear vector will be of shape [784]\n",
        "    3. hidden_dim -> Refers to the number of neurons in the hidden layers. You can use numbers instead\n",
        "\n",
        "    '''\n",
        "\n",
        "\n",
        "    def __init__(self,z_dim,img_dim,hidden_dim):\n",
        "        super().__init__()\n",
        "        self.gen = nn.Sequential(\n",
        "            nn.Linear(z_dim,hidden_dim),\n",
        "            nn.ReLU(),\n",
        "            nn.Linear(hidden_dim,hidden_dim*2),\n",
        "            nn.ReLU(),\n",
        "            nn.Linear(hidden_dim*2,hidden_dim*4),\n",
        "            nn.ReLU(),\n",
        "            nn.Linear(hidden_dim*4,img_dim),\n",
        "            nn.Tanh()\n",
        "        )\n",
        "    \n",
        "    def forward(self,x):\n",
        "        return self.gen(x).view(-1,1,28,28)"
      ],
      "execution_count": 6,
      "outputs": []
    },
    {
      "cell_type": "code",
      "metadata": {
        "colab": {
          "base_uri": "https://localhost:8080/"
        },
        "id": "_yZdjUmVaWi5",
        "outputId": "f850dce1-88c3-46b0-b0da-604626e45ee4"
      },
      "source": [
        "#The following generates 2 noise vectors each of size [10]. While training, the noise vector will contain <sample_size> number of vectors each with shape [z_dim]\n",
        "\n",
        "temp_noise = get_noise_vector(2,10)\n",
        "temp_noise"
      ],
      "execution_count": 8,
      "outputs": [
        {
          "output_type": "execute_result",
          "data": {
            "text/plain": [
              "tensor([[ 1.2417,  0.0381, -0.4471, -0.3182,  0.7962,  0.5200,  2.0718, -0.0523,\n",
              "         -1.0534,  0.3725],\n",
              "        [-0.6515,  0.0127,  0.4307, -0.6268, -0.7079, -1.9534,  0.1484, -0.3366,\n",
              "          0.4537,  0.3373]], device='cuda:0')"
            ]
          },
          "metadata": {
            "tags": []
          },
          "execution_count": 8
        }
      ]
    },
    {
      "cell_type": "code",
      "metadata": {
        "colab": {
          "base_uri": "https://localhost:8080/"
        },
        "id": "m7i5gXbvwuR_",
        "outputId": "7a7b469c-f2a1-4612-9153-265c4df468bf"
      },
      "source": [
        "#Create the Generator and Discriminator model\n",
        "disc_model = Discriminator(img_color_channel*img_height*img_width,hidden_dim,1)\n",
        "gen_model = Generator(z_dim,img_color_channel*img_height*img_width,hidden_dim)\n",
        "\n",
        "#Move the model to 'device'. If GPU is available, the model will be moved to the GPU else will run on CPU\n",
        "disc_model.to(device)\n",
        "gen_model.to(device)\n",
        "\n",
        "#Define optimizers for the generator and discriminator models\n",
        "optim_gen = optim.Adam(gen_model.parameters(),lr=gen_lr)\n",
        "optim_disc = optim.Adam(disc_model.parameters(),lr=disc_lr)\n",
        "\n",
        "#Summary of the two models\n",
        "print(disc_model)\n",
        "print(gen_model)"
      ],
      "execution_count": 9,
      "outputs": [
        {
          "output_type": "stream",
          "text": [
            "Discriminator(\n",
            "  (disc): Sequential(\n",
            "    (0): Linear(in_features=784, out_features=1024, bias=True)\n",
            "    (1): LeakyReLU(negative_slope=0.1)\n",
            "    (2): Linear(in_features=1024, out_features=512, bias=True)\n",
            "    (3): LeakyReLU(negative_slope=0.2)\n",
            "    (4): Dropout(p=0.2, inplace=False)\n",
            "    (5): Linear(in_features=512, out_features=256, bias=True)\n",
            "    (6): LeakyReLU(negative_slope=0.1)\n",
            "    (7): Dropout(p=0.1, inplace=False)\n",
            "    (8): Linear(in_features=256, out_features=1, bias=True)\n",
            "    (9): Sigmoid()\n",
            "  )\n",
            ")\n",
            "Generator(\n",
            "  (gen): Sequential(\n",
            "    (0): Linear(in_features=128, out_features=256, bias=True)\n",
            "    (1): ReLU()\n",
            "    (2): Linear(in_features=256, out_features=512, bias=True)\n",
            "    (3): ReLU()\n",
            "    (4): Linear(in_features=512, out_features=1024, bias=True)\n",
            "    (5): ReLU()\n",
            "    (6): Linear(in_features=1024, out_features=784, bias=True)\n",
            "    (7): Tanh()\n",
            "  )\n",
            ")\n"
          ],
          "name": "stdout"
        }
      ]
    },
    {
      "cell_type": "code",
      "metadata": {
        "id": "XSzTHW2BJ3Th"
      },
      "source": [
        "criteria = nn.BCELoss()"
      ],
      "execution_count": 10,
      "outputs": []
    },
    {
      "cell_type": "code",
      "metadata": {
        "id": "7VVOrjnN4LSc"
      },
      "source": [
        "loss_gen = []\n",
        "loss_disc = []\n",
        "generated_images = []"
      ],
      "execution_count": 11,
      "outputs": []
    },
    {
      "cell_type": "code",
      "metadata": {
        "id": "f_arLf4mlJwT"
      },
      "source": [
        "def train_discriminator(optimizer,real_data,fake_data):\n",
        "    #get the current batch size\n",
        "    current_batch_size = real_data.size(0)\n",
        "\n",
        "    #generate real labels (filled with 1s) and fake labels (filled with 0s)\n",
        "    real_labels = get_real_labels(current_batch_size)\n",
        "    fake_labels = get_fake_labels(current_batch_size)\n",
        "\n",
        "    optimizer.zero_grad()\n",
        "\n",
        "    #We pass the real and the fake data to the discriminator to see it's performance. We then calculate the loss on the real and the fake data. \n",
        "    output_real = disc_model(real_data)\n",
        "    real_loss = criteria(output_real,real_labels)\n",
        "\n",
        "    output_fake = disc_model(fake_data)\n",
        "    fake_loss = criteria(output_fake,fake_labels)\n",
        "\n",
        "    #The total loss of the discriminator is the sum of loss due to fake data and real data. We could've just added them to get the total loss, taking the average is optional. \n",
        "    #By trail and error it was found that the model learns better when we take the average of the loss.\n",
        "    total_loss = ((real_loss+fake_loss)/2)\n",
        "\n",
        "    total_loss.backward()\n",
        "    optimizer.step()\n",
        "\n",
        "    return total_loss"
      ],
      "execution_count": 7,
      "outputs": []
    },
    {
      "cell_type": "code",
      "metadata": {
        "id": "RZqY7EU01_Rr"
      },
      "source": [
        "def train_generator(optimizer,fake_data):\n",
        "    #get the current batch size\n",
        "    current_batch_size = fake_data.size(0)\n",
        "    #generate only real labels (filled with 1s) since this is for the data generated by the generator. \n",
        "    real_labels = get_real_labels(current_batch_size)\n",
        "\n",
        "    optimizer.zero_grad()\n",
        "\n",
        "    #We send the \n",
        "    output = disc_model(fake_data)\n",
        "    loss = criteria(output,real_labels)\n",
        "\n",
        "    loss.backward()\n",
        "    optimizer.step()\n",
        "\n",
        "    return loss"
      ],
      "execution_count": 8,
      "outputs": []
    },
    {
      "cell_type": "code",
      "metadata": {
        "colab": {
          "base_uri": "https://localhost:8080/"
        },
        "id": "vCk_Ex364UOV",
        "outputId": "dfc832d9-1b05-4690-b465-afe3de7a78d9"
      },
      "source": [
        "noise = get_noise_vector(64,z_dim)\n",
        "\n",
        "gen_model.train()\n",
        "disc_model.train()"
      ],
      "execution_count": 14,
      "outputs": [
        {
          "output_type": "execute_result",
          "data": {
            "text/plain": [
              "Discriminator(\n",
              "  (disc): Sequential(\n",
              "    (0): Linear(in_features=784, out_features=1024, bias=True)\n",
              "    (1): LeakyReLU(negative_slope=0.1)\n",
              "    (2): Linear(in_features=1024, out_features=512, bias=True)\n",
              "    (3): LeakyReLU(negative_slope=0.2)\n",
              "    (4): Dropout(p=0.2, inplace=False)\n",
              "    (5): Linear(in_features=512, out_features=256, bias=True)\n",
              "    (6): LeakyReLU(negative_slope=0.1)\n",
              "    (7): Dropout(p=0.1, inplace=False)\n",
              "    (8): Linear(in_features=256, out_features=1, bias=True)\n",
              "    (9): Sigmoid()\n",
              "  )\n",
              ")"
            ]
          },
          "metadata": {
            "tags": []
          },
          "execution_count": 14
        }
      ]
    },
    {
      "cell_type": "markdown",
      "metadata": {
        "id": "ojtrqKb9SQwD"
      },
      "source": [
        "##### **Training**"
      ]
    },
    {
      "cell_type": "code",
      "metadata": {
        "colab": {
          "base_uri": "https://localhost:8080/"
        },
        "id": "UWyr2e2m4wVD",
        "outputId": "c840a669-5c4e-4c68-9f09-378748c85fe3"
      },
      "source": [
        "k_steps = 1\n",
        "\n",
        "total_start_time = time.time()\n",
        "for epoch in range(num_of_epochs):\n",
        "    start_time = time.time()\n",
        "\n",
        "    #Set the loss of the generator and the discriminator for each epoch zero\n",
        "    loss_g = 0.0\n",
        "    loss_d = 0.0\n",
        "\n",
        "    for batch_idx, (features,_) in enumerate(train_loader):\n",
        "        image_data = features.to(device)\n",
        "        batch_size = image_data.size(0)\n",
        "\n",
        "        #This loop trains the discriminator for k_steps for every generator update\n",
        "        for _ in range(k_steps):\n",
        "            #We first generate fake images from the Generator and use that and the real data to train the discriminator\n",
        "            fake_data = gen_model(get_noise_vector(batch_size,z_dim)).detach()\n",
        "            real_data = image_data\n",
        "\n",
        "            loss_d += train_discriminator(optim_disc,real_data,fake_data)\n",
        "\n",
        "        #get fake data generated by the generator and calculate the loss of the generator\n",
        "        fake_data = gen_model(get_noise_vector(batch_size,z_dim))\n",
        "        loss_g += train_generator(optim_gen,fake_data)\n",
        "    \n",
        "    #Create the final fake images for the epoch\n",
        "    generated_fake_images = gen_model(noise).cpu().detach()\n",
        "    generated_fake_images = torchvision.utils.make_grid(generated_fake_images,padding=5,normalize=True)\n",
        "\n",
        "    #Saving the images generated by the generator after each epoch\n",
        "    save_generated_images(generated_fake_images,f'images_from_epoch_{epoch+1}.png')\n",
        "    generated_images.append(generated_fake_images)\n",
        "\n",
        "    loss_gen.append(loss_g/batch_idx)\n",
        "    loss_disc.append(loss_d/batch_idx)\n",
        "\n",
        "    print(f\"Epoch {epoch+1} of {num_of_epochs} | Time taken - {round(time.time()-start_time,3)}s\")\n",
        "    print(f\"Generator loss: {(loss_g/batch_idx):.8f}, Discriminator loss: {(loss_d/batch_idx):.8f}\")\n",
        "\n",
        "print(f'Total runtime {round(time.time()-total_start_time,3)}s')"
      ],
      "execution_count": 15,
      "outputs": [
        {
          "output_type": "stream",
          "text": [
            "Epoch 1 of 200 | Time taken - 10.164s\n",
            "Generator loss: 4.65363026, Discriminator loss: 0.20514019\n",
            "Epoch 2 of 200 | Time taken - 9.887s\n",
            "Generator loss: 9.29466248, Discriminator loss: 0.09132128\n",
            "Epoch 3 of 200 | Time taken - 9.781s\n",
            "Generator loss: 5.40570450, Discriminator loss: 0.24244441\n",
            "Epoch 4 of 200 | Time taken - 9.732s\n",
            "Generator loss: 5.13176823, Discriminator loss: 0.10910331\n",
            "Epoch 5 of 200 | Time taken - 9.87s\n",
            "Generator loss: 5.42934132, Discriminator loss: 0.10862856\n",
            "Epoch 6 of 200 | Time taken - 9.735s\n",
            "Generator loss: 6.62430763, Discriminator loss: 0.07180486\n",
            "Epoch 7 of 200 | Time taken - 9.641s\n",
            "Generator loss: 6.56790972, Discriminator loss: 0.10652103\n",
            "Epoch 8 of 200 | Time taken - 9.798s\n",
            "Generator loss: 6.97696161, Discriminator loss: 0.08667759\n",
            "Epoch 9 of 200 | Time taken - 9.68s\n",
            "Generator loss: 5.81163216, Discriminator loss: 0.08180524\n",
            "Epoch 10 of 200 | Time taken - 9.638s\n",
            "Generator loss: 4.91325426, Discriminator loss: 0.10743917\n",
            "Epoch 11 of 200 | Time taken - 9.694s\n",
            "Generator loss: 5.26156664, Discriminator loss: 0.08781534\n",
            "Epoch 12 of 200 | Time taken - 9.796s\n",
            "Generator loss: 5.01821423, Discriminator loss: 0.10305762\n",
            "Epoch 13 of 200 | Time taken - 9.824s\n",
            "Generator loss: 5.19782782, Discriminator loss: 0.08539972\n",
            "Epoch 14 of 200 | Time taken - 9.709s\n",
            "Generator loss: 5.28683233, Discriminator loss: 0.08083373\n",
            "Epoch 15 of 200 | Time taken - 9.662s\n",
            "Generator loss: 5.66617203, Discriminator loss: 0.08729849\n",
            "Epoch 16 of 200 | Time taken - 9.601s\n",
            "Generator loss: 5.72431183, Discriminator loss: 0.09542340\n",
            "Epoch 17 of 200 | Time taken - 9.658s\n",
            "Generator loss: 5.18242168, Discriminator loss: 0.09138747\n",
            "Epoch 18 of 200 | Time taken - 9.701s\n",
            "Generator loss: 4.73413086, Discriminator loss: 0.10560496\n",
            "Epoch 19 of 200 | Time taken - 9.706s\n",
            "Generator loss: 4.55294275, Discriminator loss: 0.11862943\n",
            "Epoch 20 of 200 | Time taken - 9.76s\n",
            "Generator loss: 4.49196100, Discriminator loss: 0.13137390\n",
            "Epoch 21 of 200 | Time taken - 9.706s\n",
            "Generator loss: 4.20563459, Discriminator loss: 0.14605977\n",
            "Epoch 22 of 200 | Time taken - 9.608s\n",
            "Generator loss: 4.11671686, Discriminator loss: 0.13157932\n",
            "Epoch 23 of 200 | Time taken - 9.966s\n",
            "Generator loss: 4.21325350, Discriminator loss: 0.14118524\n",
            "Epoch 24 of 200 | Time taken - 9.899s\n",
            "Generator loss: 3.81651092, Discriminator loss: 0.14632657\n",
            "Epoch 25 of 200 | Time taken - 10.183s\n",
            "Generator loss: 3.35688233, Discriminator loss: 0.17212500\n",
            "Epoch 26 of 200 | Time taken - 9.868s\n",
            "Generator loss: 3.29588723, Discriminator loss: 0.18697949\n",
            "Epoch 27 of 200 | Time taken - 9.38s\n",
            "Generator loss: 3.14416814, Discriminator loss: 0.18846048\n",
            "Epoch 28 of 200 | Time taken - 9.537s\n",
            "Generator loss: 3.29871774, Discriminator loss: 0.18587138\n",
            "Epoch 29 of 200 | Time taken - 9.59s\n",
            "Generator loss: 2.97211957, Discriminator loss: 0.21310489\n",
            "Epoch 30 of 200 | Time taken - 9.49s\n",
            "Generator loss: 2.96088600, Discriminator loss: 0.22007605\n",
            "Epoch 31 of 200 | Time taken - 9.452s\n",
            "Generator loss: 2.98913074, Discriminator loss: 0.22475983\n",
            "Epoch 32 of 200 | Time taken - 9.544s\n",
            "Generator loss: 2.94727492, Discriminator loss: 0.22089046\n",
            "Epoch 33 of 200 | Time taken - 9.477s\n",
            "Generator loss: 2.80783892, Discriminator loss: 0.22301477\n",
            "Epoch 34 of 200 | Time taken - 9.564s\n",
            "Generator loss: 2.94257188, Discriminator loss: 0.23327672\n",
            "Epoch 35 of 200 | Time taken - 9.634s\n",
            "Generator loss: 2.73647618, Discriminator loss: 0.24151425\n",
            "Epoch 36 of 200 | Time taken - 9.655s\n",
            "Generator loss: 2.60663009, Discriminator loss: 0.25313336\n",
            "Epoch 37 of 200 | Time taken - 9.517s\n",
            "Generator loss: 2.66661119, Discriminator loss: 0.25821730\n",
            "Epoch 38 of 200 | Time taken - 9.675s\n",
            "Generator loss: 2.63643193, Discriminator loss: 0.26205936\n",
            "Epoch 39 of 200 | Time taken - 9.639s\n",
            "Generator loss: 2.61657071, Discriminator loss: 0.26765355\n",
            "Epoch 40 of 200 | Time taken - 9.495s\n",
            "Generator loss: 2.51696062, Discriminator loss: 0.27021337\n",
            "Epoch 41 of 200 | Time taken - 9.489s\n",
            "Generator loss: 2.52037692, Discriminator loss: 0.26736590\n",
            "Epoch 42 of 200 | Time taken - 9.722s\n",
            "Generator loss: 2.52410150, Discriminator loss: 0.27204952\n",
            "Epoch 43 of 200 | Time taken - 9.584s\n",
            "Generator loss: 2.42429781, Discriminator loss: 0.29060754\n",
            "Epoch 44 of 200 | Time taken - 9.402s\n",
            "Generator loss: 2.33688545, Discriminator loss: 0.30203471\n",
            "Epoch 45 of 200 | Time taken - 9.566s\n",
            "Generator loss: 2.37252402, Discriminator loss: 0.30348542\n",
            "Epoch 46 of 200 | Time taken - 9.662s\n",
            "Generator loss: 2.23685336, Discriminator loss: 0.31449744\n",
            "Epoch 47 of 200 | Time taken - 9.577s\n",
            "Generator loss: 2.14090395, Discriminator loss: 0.31979379\n",
            "Epoch 48 of 200 | Time taken - 9.528s\n",
            "Generator loss: 2.22618151, Discriminator loss: 0.32253549\n",
            "Epoch 49 of 200 | Time taken - 9.746s\n",
            "Generator loss: 2.13056517, Discriminator loss: 0.32563490\n",
            "Epoch 50 of 200 | Time taken - 9.403s\n",
            "Generator loss: 2.27200365, Discriminator loss: 0.32201236\n",
            "Epoch 51 of 200 | Time taken - 9.528s\n",
            "Generator loss: 2.11171937, Discriminator loss: 0.33209491\n",
            "Epoch 52 of 200 | Time taken - 9.596s\n",
            "Generator loss: 2.09309578, Discriminator loss: 0.33668882\n",
            "Epoch 53 of 200 | Time taken - 9.68s\n",
            "Generator loss: 2.04272819, Discriminator loss: 0.34533894\n",
            "Epoch 54 of 200 | Time taken - 9.4s\n",
            "Generator loss: 2.06552052, Discriminator loss: 0.35345361\n",
            "Epoch 55 of 200 | Time taken - 9.571s\n",
            "Generator loss: 2.02882552, Discriminator loss: 0.35565621\n",
            "Epoch 56 of 200 | Time taken - 9.666s\n",
            "Generator loss: 2.03313398, Discriminator loss: 0.35644636\n",
            "Epoch 57 of 200 | Time taken - 9.508s\n",
            "Generator loss: 1.99582326, Discriminator loss: 0.36302546\n",
            "Epoch 58 of 200 | Time taken - 9.487s\n",
            "Generator loss: 1.96580577, Discriminator loss: 0.36565736\n",
            "Epoch 59 of 200 | Time taken - 9.508s\n",
            "Generator loss: 1.92582321, Discriminator loss: 0.37284461\n",
            "Epoch 60 of 200 | Time taken - 9.541s\n",
            "Generator loss: 1.86610484, Discriminator loss: 0.37691924\n",
            "Epoch 61 of 200 | Time taken - 9.621s\n",
            "Generator loss: 1.88291788, Discriminator loss: 0.37959558\n",
            "Epoch 62 of 200 | Time taken - 9.692s\n",
            "Generator loss: 1.85181284, Discriminator loss: 0.38808537\n",
            "Epoch 63 of 200 | Time taken - 9.782s\n",
            "Generator loss: 1.82737827, Discriminator loss: 0.39314169\n",
            "Epoch 64 of 200 | Time taken - 9.597s\n",
            "Generator loss: 1.81864357, Discriminator loss: 0.38893086\n",
            "Epoch 65 of 200 | Time taken - 9.66s\n",
            "Generator loss: 1.82637191, Discriminator loss: 0.38625723\n",
            "Epoch 66 of 200 | Time taken - 9.597s\n",
            "Generator loss: 1.86322582, Discriminator loss: 0.39185536\n",
            "Epoch 67 of 200 | Time taken - 9.704s\n",
            "Generator loss: 1.81942654, Discriminator loss: 0.39535710\n",
            "Epoch 68 of 200 | Time taken - 9.651s\n",
            "Generator loss: 1.80129206, Discriminator loss: 0.39639786\n",
            "Epoch 69 of 200 | Time taken - 9.61s\n",
            "Generator loss: 1.75606191, Discriminator loss: 0.40179494\n",
            "Epoch 70 of 200 | Time taken - 9.788s\n",
            "Generator loss: 1.75975084, Discriminator loss: 0.40326607\n",
            "Epoch 71 of 200 | Time taken - 9.704s\n",
            "Generator loss: 1.79408908, Discriminator loss: 0.40054220\n",
            "Epoch 72 of 200 | Time taken - 9.786s\n",
            "Generator loss: 1.69088984, Discriminator loss: 0.41696948\n",
            "Epoch 73 of 200 | Time taken - 9.746s\n",
            "Generator loss: 1.72245145, Discriminator loss: 0.41209555\n",
            "Epoch 74 of 200 | Time taken - 9.737s\n",
            "Generator loss: 1.66045284, Discriminator loss: 0.42325509\n",
            "Epoch 75 of 200 | Time taken - 9.642s\n",
            "Generator loss: 1.64372444, Discriminator loss: 0.42218968\n",
            "Epoch 76 of 200 | Time taken - 9.669s\n",
            "Generator loss: 1.59509349, Discriminator loss: 0.42639738\n",
            "Epoch 77 of 200 | Time taken - 9.737s\n",
            "Generator loss: 1.59969962, Discriminator loss: 0.43108565\n",
            "Epoch 78 of 200 | Time taken - 9.782s\n",
            "Generator loss: 1.65895569, Discriminator loss: 0.43292782\n",
            "Epoch 79 of 200 | Time taken - 9.629s\n",
            "Generator loss: 1.59211528, Discriminator loss: 0.44134879\n",
            "Epoch 80 of 200 | Time taken - 9.916s\n",
            "Generator loss: 1.57551730, Discriminator loss: 0.44058526\n",
            "Epoch 81 of 200 | Time taken - 9.765s\n",
            "Generator loss: 1.58339453, Discriminator loss: 0.44180587\n",
            "Epoch 82 of 200 | Time taken - 9.578s\n",
            "Generator loss: 1.57385004, Discriminator loss: 0.44547459\n",
            "Epoch 83 of 200 | Time taken - 9.571s\n",
            "Generator loss: 1.55928600, Discriminator loss: 0.44536296\n",
            "Epoch 84 of 200 | Time taken - 9.708s\n",
            "Generator loss: 1.55922866, Discriminator loss: 0.44530502\n",
            "Epoch 85 of 200 | Time taken - 9.637s\n",
            "Generator loss: 1.51260614, Discriminator loss: 0.45354679\n",
            "Epoch 86 of 200 | Time taken - 9.468s\n",
            "Generator loss: 1.53670812, Discriminator loss: 0.44537601\n",
            "Epoch 87 of 200 | Time taken - 9.592s\n",
            "Generator loss: 1.57466018, Discriminator loss: 0.44572577\n",
            "Epoch 88 of 200 | Time taken - 9.475s\n",
            "Generator loss: 1.56194568, Discriminator loss: 0.45392179\n",
            "Epoch 89 of 200 | Time taken - 9.559s\n",
            "Generator loss: 1.49470055, Discriminator loss: 0.45725387\n",
            "Epoch 90 of 200 | Time taken - 9.548s\n",
            "Generator loss: 1.51863313, Discriminator loss: 0.44940346\n",
            "Epoch 91 of 200 | Time taken - 9.508s\n",
            "Generator loss: 1.52424681, Discriminator loss: 0.45346871\n",
            "Epoch 92 of 200 | Time taken - 9.494s\n",
            "Generator loss: 1.50509274, Discriminator loss: 0.46740979\n",
            "Epoch 93 of 200 | Time taken - 9.471s\n",
            "Generator loss: 1.47594702, Discriminator loss: 0.46808639\n",
            "Epoch 94 of 200 | Time taken - 9.673s\n",
            "Generator loss: 1.46908665, Discriminator loss: 0.46807566\n",
            "Epoch 95 of 200 | Time taken - 9.434s\n",
            "Generator loss: 1.49711657, Discriminator loss: 0.46784529\n",
            "Epoch 96 of 200 | Time taken - 9.383s\n",
            "Generator loss: 1.46683168, Discriminator loss: 0.47122309\n",
            "Epoch 97 of 200 | Time taken - 9.512s\n",
            "Generator loss: 1.46365654, Discriminator loss: 0.47046804\n",
            "Epoch 98 of 200 | Time taken - 9.474s\n",
            "Generator loss: 1.50461793, Discriminator loss: 0.47692299\n",
            "Epoch 99 of 200 | Time taken - 9.558s\n",
            "Generator loss: 1.49861419, Discriminator loss: 0.48155466\n",
            "Epoch 100 of 200 | Time taken - 9.492s\n",
            "Generator loss: 1.45687103, Discriminator loss: 0.47635716\n",
            "Epoch 101 of 200 | Time taken - 9.551s\n",
            "Generator loss: 1.44207096, Discriminator loss: 0.47507125\n",
            "Epoch 102 of 200 | Time taken - 9.364s\n",
            "Generator loss: 1.45996380, Discriminator loss: 0.47260576\n",
            "Epoch 103 of 200 | Time taken - 9.433s\n",
            "Generator loss: 1.41302717, Discriminator loss: 0.48285499\n",
            "Epoch 104 of 200 | Time taken - 9.6s\n",
            "Generator loss: 1.45436716, Discriminator loss: 0.47912949\n",
            "Epoch 105 of 200 | Time taken - 9.517s\n",
            "Generator loss: 1.42443323, Discriminator loss: 0.48696947\n",
            "Epoch 106 of 200 | Time taken - 9.488s\n",
            "Generator loss: 1.42488968, Discriminator loss: 0.48731017\n",
            "Epoch 107 of 200 | Time taken - 9.392s\n",
            "Generator loss: 1.41315985, Discriminator loss: 0.49297190\n",
            "Epoch 108 of 200 | Time taken - 9.718s\n",
            "Generator loss: 1.40596819, Discriminator loss: 0.49036914\n",
            "Epoch 109 of 200 | Time taken - 9.678s\n",
            "Generator loss: 1.40763915, Discriminator loss: 0.49354154\n",
            "Epoch 110 of 200 | Time taken - 9.505s\n",
            "Generator loss: 1.36662173, Discriminator loss: 0.49159601\n",
            "Epoch 111 of 200 | Time taken - 9.643s\n",
            "Generator loss: 1.41309750, Discriminator loss: 0.48338884\n",
            "Epoch 112 of 200 | Time taken - 9.595s\n",
            "Generator loss: 1.42879260, Discriminator loss: 0.48834851\n",
            "Epoch 113 of 200 | Time taken - 9.587s\n",
            "Generator loss: 1.39176965, Discriminator loss: 0.49396372\n",
            "Epoch 114 of 200 | Time taken - 9.598s\n",
            "Generator loss: 1.39630306, Discriminator loss: 0.49207938\n",
            "Epoch 115 of 200 | Time taken - 9.602s\n",
            "Generator loss: 1.38421798, Discriminator loss: 0.49019054\n",
            "Epoch 116 of 200 | Time taken - 9.497s\n",
            "Generator loss: 1.40075433, Discriminator loss: 0.49320453\n",
            "Epoch 117 of 200 | Time taken - 9.588s\n",
            "Generator loss: 1.36119759, Discriminator loss: 0.49227339\n",
            "Epoch 118 of 200 | Time taken - 9.756s\n",
            "Generator loss: 1.33912623, Discriminator loss: 0.49153933\n",
            "Epoch 119 of 200 | Time taken - 9.695s\n",
            "Generator loss: 1.39872658, Discriminator loss: 0.49349052\n",
            "Epoch 120 of 200 | Time taken - 9.395s\n",
            "Generator loss: 1.39422071, Discriminator loss: 0.50456995\n",
            "Epoch 121 of 200 | Time taken - 9.627s\n",
            "Generator loss: 1.36989725, Discriminator loss: 0.49583745\n",
            "Epoch 122 of 200 | Time taken - 10.234s\n",
            "Generator loss: 1.35931861, Discriminator loss: 0.49392498\n",
            "Epoch 123 of 200 | Time taken - 10.05s\n",
            "Generator loss: 1.33956277, Discriminator loss: 0.49761784\n",
            "Epoch 124 of 200 | Time taken - 10.143s\n",
            "Generator loss: 1.37549531, Discriminator loss: 0.49279022\n",
            "Epoch 125 of 200 | Time taken - 10.127s\n",
            "Generator loss: 1.35516310, Discriminator loss: 0.49672061\n",
            "Epoch 126 of 200 | Time taken - 9.565s\n",
            "Generator loss: 1.38911724, Discriminator loss: 0.50063425\n",
            "Epoch 127 of 200 | Time taken - 9.477s\n",
            "Generator loss: 1.32995212, Discriminator loss: 0.50593168\n",
            "Epoch 128 of 200 | Time taken - 9.444s\n",
            "Generator loss: 1.33269656, Discriminator loss: 0.50359368\n",
            "Epoch 129 of 200 | Time taken - 9.424s\n",
            "Generator loss: 1.36754572, Discriminator loss: 0.49824557\n",
            "Epoch 130 of 200 | Time taken - 9.455s\n",
            "Generator loss: 1.33866060, Discriminator loss: 0.49816549\n",
            "Epoch 131 of 200 | Time taken - 9.492s\n",
            "Generator loss: 1.36219358, Discriminator loss: 0.49842307\n",
            "Epoch 132 of 200 | Time taken - 9.613s\n",
            "Generator loss: 1.34520757, Discriminator loss: 0.50423801\n",
            "Epoch 133 of 200 | Time taken - 9.438s\n",
            "Generator loss: 1.34259641, Discriminator loss: 0.51036060\n",
            "Epoch 134 of 200 | Time taken - 9.486s\n",
            "Generator loss: 1.33241940, Discriminator loss: 0.50824130\n",
            "Epoch 135 of 200 | Time taken - 9.495s\n",
            "Generator loss: 1.34112799, Discriminator loss: 0.50737810\n",
            "Epoch 136 of 200 | Time taken - 9.474s\n",
            "Generator loss: 1.35364783, Discriminator loss: 0.50370270\n",
            "Epoch 137 of 200 | Time taken - 9.547s\n",
            "Generator loss: 1.35521507, Discriminator loss: 0.50912338\n",
            "Epoch 138 of 200 | Time taken - 9.45s\n",
            "Generator loss: 1.31807446, Discriminator loss: 0.50170135\n",
            "Epoch 139 of 200 | Time taken - 9.727s\n",
            "Generator loss: 1.31916142, Discriminator loss: 0.50147307\n",
            "Epoch 140 of 200 | Time taken - 9.533s\n",
            "Generator loss: 1.32261491, Discriminator loss: 0.49611217\n",
            "Epoch 141 of 200 | Time taken - 9.507s\n",
            "Generator loss: 1.35439205, Discriminator loss: 0.49839771\n",
            "Epoch 142 of 200 | Time taken - 9.672s\n",
            "Generator loss: 1.33206296, Discriminator loss: 0.50435972\n",
            "Epoch 143 of 200 | Time taken - 9.55s\n",
            "Generator loss: 1.32955635, Discriminator loss: 0.50021124\n",
            "Epoch 144 of 200 | Time taken - 9.469s\n",
            "Generator loss: 1.36894560, Discriminator loss: 0.50357640\n",
            "Epoch 145 of 200 | Time taken - 9.385s\n",
            "Generator loss: 1.31161368, Discriminator loss: 0.50684839\n",
            "Epoch 146 of 200 | Time taken - 9.623s\n",
            "Generator loss: 1.34045637, Discriminator loss: 0.50935811\n",
            "Epoch 147 of 200 | Time taken - 9.609s\n",
            "Generator loss: 1.33318889, Discriminator loss: 0.50151509\n",
            "Epoch 148 of 200 | Time taken - 9.595s\n",
            "Generator loss: 1.34260476, Discriminator loss: 0.49763957\n",
            "Epoch 149 of 200 | Time taken - 9.783s\n",
            "Generator loss: 1.33201003, Discriminator loss: 0.50049686\n",
            "Epoch 150 of 200 | Time taken - 9.797s\n",
            "Generator loss: 1.33102190, Discriminator loss: 0.49838552\n",
            "Epoch 151 of 200 | Time taken - 9.89s\n",
            "Generator loss: 1.35657477, Discriminator loss: 0.49460325\n",
            "Epoch 152 of 200 | Time taken - 9.879s\n",
            "Generator loss: 1.31391203, Discriminator loss: 0.50277054\n",
            "Epoch 153 of 200 | Time taken - 9.704s\n",
            "Generator loss: 1.31060421, Discriminator loss: 0.50044137\n",
            "Epoch 154 of 200 | Time taken - 9.535s\n",
            "Generator loss: 1.33959067, Discriminator loss: 0.49711445\n",
            "Epoch 155 of 200 | Time taken - 9.418s\n",
            "Generator loss: 1.37215972, Discriminator loss: 0.50373787\n",
            "Epoch 156 of 200 | Time taken - 9.674s\n",
            "Generator loss: 1.32627320, Discriminator loss: 0.50854665\n",
            "Epoch 157 of 200 | Time taken - 9.412s\n",
            "Generator loss: 1.30680561, Discriminator loss: 0.50137001\n",
            "Epoch 158 of 200 | Time taken - 9.451s\n",
            "Generator loss: 1.32885492, Discriminator loss: 0.49839097\n",
            "Epoch 159 of 200 | Time taken - 9.493s\n",
            "Generator loss: 1.33071363, Discriminator loss: 0.50292552\n",
            "Epoch 160 of 200 | Time taken - 9.464s\n",
            "Generator loss: 1.32354605, Discriminator loss: 0.49961644\n",
            "Epoch 161 of 200 | Time taken - 9.396s\n",
            "Generator loss: 1.33547080, Discriminator loss: 0.50383240\n",
            "Epoch 162 of 200 | Time taken - 9.485s\n",
            "Generator loss: 1.33285010, Discriminator loss: 0.50311023\n",
            "Epoch 163 of 200 | Time taken - 9.61s\n",
            "Generator loss: 1.33141911, Discriminator loss: 0.50031728\n",
            "Epoch 164 of 200 | Time taken - 9.572s\n",
            "Generator loss: 1.32221115, Discriminator loss: 0.50556737\n",
            "Epoch 165 of 200 | Time taken - 9.54s\n",
            "Generator loss: 1.32714975, Discriminator loss: 0.50545603\n",
            "Epoch 166 of 200 | Time taken - 9.618s\n",
            "Generator loss: 1.30844069, Discriminator loss: 0.50128657\n",
            "Epoch 167 of 200 | Time taken - 9.498s\n",
            "Generator loss: 1.32863665, Discriminator loss: 0.50373530\n",
            "Epoch 168 of 200 | Time taken - 9.452s\n",
            "Generator loss: 1.37015760, Discriminator loss: 0.50470370\n",
            "Epoch 169 of 200 | Time taken - 9.482s\n",
            "Generator loss: 1.33896041, Discriminator loss: 0.49972552\n",
            "Epoch 170 of 200 | Time taken - 9.494s\n",
            "Generator loss: 1.35512364, Discriminator loss: 0.49522817\n",
            "Epoch 171 of 200 | Time taken - 9.465s\n",
            "Generator loss: 1.33174026, Discriminator loss: 0.49851188\n",
            "Epoch 172 of 200 | Time taken - 9.513s\n",
            "Generator loss: 1.36302912, Discriminator loss: 0.49441299\n",
            "Epoch 173 of 200 | Time taken - 9.738s\n",
            "Generator loss: 1.33501112, Discriminator loss: 0.49859127\n",
            "Epoch 174 of 200 | Time taken - 9.46s\n",
            "Generator loss: 1.33924973, Discriminator loss: 0.49349678\n",
            "Epoch 175 of 200 | Time taken - 9.468s\n",
            "Generator loss: 1.39217901, Discriminator loss: 0.49103895\n",
            "Epoch 176 of 200 | Time taken - 9.485s\n",
            "Generator loss: 1.35854781, Discriminator loss: 0.49981916\n",
            "Epoch 177 of 200 | Time taken - 9.601s\n",
            "Generator loss: 1.36321795, Discriminator loss: 0.49626675\n",
            "Epoch 178 of 200 | Time taken - 9.397s\n",
            "Generator loss: 1.32135081, Discriminator loss: 0.50058073\n",
            "Epoch 179 of 200 | Time taken - 9.652s\n",
            "Generator loss: 1.35948932, Discriminator loss: 0.48979563\n",
            "Epoch 180 of 200 | Time taken - 9.962s\n",
            "Generator loss: 1.37732053, Discriminator loss: 0.49442208\n",
            "Epoch 181 of 200 | Time taken - 9.65s\n",
            "Generator loss: 1.35885394, Discriminator loss: 0.49860379\n",
            "Epoch 182 of 200 | Time taken - 9.598s\n",
            "Generator loss: 1.36519253, Discriminator loss: 0.49335209\n",
            "Epoch 183 of 200 | Time taken - 9.402s\n",
            "Generator loss: 1.36086380, Discriminator loss: 0.49022767\n",
            "Epoch 184 of 200 | Time taken - 9.459s\n",
            "Generator loss: 1.39234269, Discriminator loss: 0.49269158\n",
            "Epoch 185 of 200 | Time taken - 9.381s\n",
            "Generator loss: 1.34955490, Discriminator loss: 0.49299800\n",
            "Epoch 186 of 200 | Time taken - 9.326s\n",
            "Generator loss: 1.35785723, Discriminator loss: 0.49049664\n",
            "Epoch 187 of 200 | Time taken - 9.493s\n",
            "Generator loss: 1.36825728, Discriminator loss: 0.49651808\n",
            "Epoch 188 of 200 | Time taken - 9.484s\n",
            "Generator loss: 1.37496305, Discriminator loss: 0.49389631\n",
            "Epoch 189 of 200 | Time taken - 9.433s\n",
            "Generator loss: 1.36499119, Discriminator loss: 0.49252829\n",
            "Epoch 190 of 200 | Time taken - 9.639s\n",
            "Generator loss: 1.34488022, Discriminator loss: 0.49040136\n",
            "Epoch 191 of 200 | Time taken - 9.5s\n",
            "Generator loss: 1.36773908, Discriminator loss: 0.48586625\n",
            "Epoch 192 of 200 | Time taken - 9.43s\n",
            "Generator loss: 1.37261868, Discriminator loss: 0.48467448\n",
            "Epoch 193 of 200 | Time taken - 9.4s\n",
            "Generator loss: 1.43366313, Discriminator loss: 0.48853868\n",
            "Epoch 194 of 200 | Time taken - 9.604s\n",
            "Generator loss: 1.37895656, Discriminator loss: 0.49043784\n",
            "Epoch 195 of 200 | Time taken - 9.437s\n",
            "Generator loss: 1.35911882, Discriminator loss: 0.48879534\n",
            "Epoch 196 of 200 | Time taken - 9.362s\n",
            "Generator loss: 1.36598611, Discriminator loss: 0.48383617\n",
            "Epoch 197 of 200 | Time taken - 9.504s\n",
            "Generator loss: 1.38527250, Discriminator loss: 0.48335928\n",
            "Epoch 198 of 200 | Time taken - 9.478s\n",
            "Generator loss: 1.40069950, Discriminator loss: 0.48384574\n",
            "Epoch 199 of 200 | Time taken - 9.4s\n",
            "Generator loss: 1.38977265, Discriminator loss: 0.48523620\n",
            "Epoch 200 of 200 | Time taken - 9.492s\n",
            "Generator loss: 1.36944258, Discriminator loss: 0.48674792\n",
            "Total runtime 1920.52s\n"
          ],
          "name": "stdout"
        }
      ]
    },
    {
      "cell_type": "code",
      "metadata": {
        "colab": {
          "base_uri": "https://localhost:8080/"
        },
        "id": "G9yRB8PtF9Dg",
        "outputId": "03cbdb4c-04d0-444c-925a-d310985813de"
      },
      "source": [
        "print('DONE TRAINING')\n",
        "torch.save(gen_model.state_dict(), f'generator.pth') #Saves the generator model's parameters\n",
        "torch.save(gen_model,f'generator_model.pt') #Saves the entire model\n",
        "torch.save(optim_gen.state_dict(),f'generator_optimizer.pt') #Saves the state of the optimizer"
      ],
      "execution_count": 39,
      "outputs": [
        {
          "output_type": "stream",
          "text": [
            "DONE TRAINING\n"
          ],
          "name": "stdout"
        }
      ]
    },
    {
      "cell_type": "code",
      "metadata": {
        "colab": {
          "base_uri": "https://localhost:8080/",
          "height": 609
        },
        "id": "6M9qGq6B5WSa",
        "outputId": "f60d7b93-0ab7-463d-a3d3-08732202fea6"
      },
      "source": [
        "#Visualisation of the errors of Generators and Discriminators\n",
        "\n",
        "plt.figure(figsize=(15,10))\n",
        "plt.plot(loss_gen, label='Generator loss')\n",
        "plt.plot(loss_disc, label='Discriminator Loss')\n",
        "plt.legend()"
      ],
      "execution_count": 17,
      "outputs": [
        {
          "output_type": "execute_result",
          "data": {
            "text/plain": [
              "<matplotlib.legend.Legend at 0x7f3c2c8e9310>"
            ]
          },
          "metadata": {
            "tags": []
          },
          "execution_count": 17
        },
        {
          "output_type": "display_data",
          "data": {
            "image/png": "[encoded data removed]",
            "text/plain": [
              "<Figure size 1080x720 with 1 Axes>"
            ]
          },
          "metadata": {
            "tags": [],
            "needs_background": "light"
          }
        }
      ]
    },
    {
      "cell_type": "markdown",
      "metadata": {
        "id": "-LGMrRXz6jK5"
      },
      "source": [
        "**Generating Random Images**"
      ]
    },
    {
      "cell_type": "code",
      "metadata": {
        "colab": {
          "base_uri": "https://localhost:8080/"
        },
        "id": "lxH8aLpsySWB",
        "outputId": "c7c6b181-1bc1-4d9c-8b5e-eae9bc4f45df"
      },
      "source": [
        "images_to_generate = 56\n",
        "\n",
        "gen_images = gen_model(get_noise_vector(images_to_generate,z_dim)).cpu().detach()\n",
        "gen_images.shape"
      ],
      "execution_count": 53,
      "outputs": [
        {
          "output_type": "execute_result",
          "data": {
            "text/plain": [
              "torch.Size([56, 1, 28, 28])"
            ]
          },
          "metadata": {
            "tags": []
          },
          "execution_count": 53
        }
      ]
    },
    {
      "cell_type": "code",
      "metadata": {
        "colab": {
          "base_uri": "https://localhost:8080/",
          "height": 536
        },
        "id": "fMUbfu1yzajo",
        "outputId": "d5724858-de58-41de-940d-6c3704e6c66c"
      },
      "source": [
        "plt.figure(figsize=(10,10))\n",
        "plt.axis(\"off\")\n",
        "plt.title(\"Generated Images\")\n",
        "plt.imshow(np.transpose(torchvision.utils.make_grid(gen_images,padding=5,normalize=True),(1,2,0)))\n",
        "plt.show()"
      ],
      "execution_count": 54,
      "outputs": [
        {
          "output_type": "display_data",
          "data": {
            "image/png": "[encoded data removed]",
            "text/plain": [
              "<Figure size 720x720 with 1 Axes>"
            ]
          },
          "metadata": {
            "tags": [],
            "needs_background": "light"
          }
        }
      ]
    }
  ]
}